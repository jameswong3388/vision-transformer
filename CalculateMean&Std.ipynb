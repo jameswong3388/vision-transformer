{
 "cells": [
  {
   "cell_type": "code",
   "execution_count": 6,
   "id": "2c727450-0588-400d-9d9e-b0711dac4c50",
   "metadata": {},
   "outputs": [],
   "source": [
    "import torchvision\n",
    "from torchvision import transforms\n",
    "from torch.utils.data import DataLoader\n",
    "\n",
    "data_path = 'dataset/train'\n",
    "\n",
    "transform_img = transforms.Compose([\n",
    "    transforms.Resize(32),\n",
    "    transforms.CenterCrop(32),\n",
    "    transforms.ToTensor(),\n",
    "    # here do not use transforms.Normalize(mean, std)\n",
    "])\n",
    "\n",
    "image_data = torchvision.datasets.ImageFolder(\n",
    "  root=data_path, transform=transform_img\n",
    ")\n",
    "\n",
    "image_data_loader = DataLoader(\n",
    "  image_data, \n",
    "  batch_size=len(image_data), \n",
    "  shuffle=False, \n",
    "  num_workers=0\n",
    ")"
   ]
  },
  {
   "cell_type": "code",
   "execution_count": 7,
   "id": "3988d462-5627-43ea-afb8-49bc3224f04a",
   "metadata": {},
   "outputs": [
    {
     "data": {
      "image/png": "[encoded data removed]",
      "text/plain": [
       "<Figure size 640x480 with 1 Axes>"
      ]
     },
     "metadata": {},
     "output_type": "display_data"
    }
   ],
   "source": [
    "# Python code to visualize an image\n",
    "import matplotlib.pyplot as plt\n",
    "\n",
    "images, labels = next(iter(image_data_loader))\n",
    "\n",
    "def display_image(images):\n",
    "  images_np = images.numpy()\n",
    "  img_plt = images_np.transpose(0,2,3,1)\n",
    "  # display 5th image from dataset\n",
    "  plt.imshow(img_plt[4])\n",
    "\n",
    "display_image(images)"
   ]
  },
  {
   "cell_type": "code",
   "execution_count": 8,
   "id": "5ba97f04-aec7-4b62-acbd-23ce689910d7",
   "metadata": {},
   "outputs": [
    {
     "name": "stdout",
     "output_type": "stream",
     "text": [
      "mean and std: \n",
      " tensor([0.6628, 0.6246, 0.5834]) tensor([0.2829, 0.2980, 0.3196])\n"
     ]
    }
   ],
   "source": [
    "# python code calculate mean and std\n",
    "from torch.utils.data import DataLoader\n",
    "image_data_loader = DataLoader(\n",
    "    image_data,\n",
    "    # batch size is whole dataset\n",
    "    batch_size=len(image_data),\n",
    "    shuffle=False,\n",
    "    num_workers=0)\n",
    "def mean_std(loader):\n",
    "  images, lebels = next(iter(loader))\n",
    "  # shape of images = [b,c,w,h]\n",
    "  mean, std = images.mean([0,2,3]), images.std([0,2,3])\n",
    "  return mean, std\n",
    "mean, std = mean_std(image_data_loader)\n",
    "print(\"mean and std: \\n\", mean, std)"
   ]
  }
 ],
 "metadata": {
  "kernelspec": {
   "display_name": "Python 3 (ipykernel)",
   "language": "python",
   "name": "python3"
  },
  "language_info": {
   "codemirror_mode": {
    "name": "ipython",
    "version": 3
   },
   "file_extension": ".py",
   "mimetype": "text/x-python",
   "name": "python",
   "nbconvert_exporter": "python",
   "pygments_lexer": "ipython3",
   "version": "3.9.6"
  }
 },
 "nbformat": 4,
 "nbformat_minor": 5
}
